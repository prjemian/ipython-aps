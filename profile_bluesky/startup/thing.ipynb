{
 "nbformat": 4,
 "nbformat_minor": 2,
 "metadata": {
  "language_info": {
   "name": "python",
   "codemirror_mode": {
    "name": "ipython",
    "version": 3
   }
  },
  "orig_nbformat": 2,
  "file_extension": ".py",
  "mimetype": "text/x-python",
  "name": "python",
  "npconvert_exporter": "python",
  "pygments_lexer": "ipython3",
  "version": 3
 },
 "cells": [
  {
   "cell_type": "code",
   "execution_count": null,
   "metadata": {},
   "outputs": [
    {
     "ename": "Error",
     "evalue": "Command failed: . activate bluesky && echo 'e8b39361-0157-4923-80e1-22d70d46dee6' && python /home/beams1/JEMIAN/.vscode/extensions/ms-python.python-2020.2.64397/pythonFiles/printEnvVariables.py\nbash: activate: No such file or directory\n",
     "output_type": "error",
     "traceback": [
      "Error: Command failed: . activate bluesky && echo 'e8b39361-0157-4923-80e1-22d70d46dee6' && python /home/beams1/JEMIAN/.vscode/extensions/ms-python.python-2020.2.64397/pythonFiles/printEnvVariables.py",
      "bash: activate: No such file or directory",
      "at ChildProcess.exithandler (child_process.js:303:12)",
      "at ChildProcess.emit (events.js:200:13)",
      "at maybeClose (internal/child_process.js:1021:16)",
      "at Socket.<anonymous> (internal/child_process.js:430:11)",
      "at Socket.emit (events.js:200:13)",
      "at Pipe.<anonymous> (net.js:586:12)"
     ]
    }
   ],
   "source": [
    "print(\"gsdgds\")"
   ]
  }
 ]
}